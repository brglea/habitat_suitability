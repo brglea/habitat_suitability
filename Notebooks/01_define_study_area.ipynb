{
 "cells": [
  {
   "cell_type": "code",
   "execution_count": null,
   "metadata": {},
   "outputs": [],
   "source": [
    "# Set Up Analysis Part 1 of 2\n",
    "## Import packages that will help with...\n",
    "\n",
    "# Reproducible file paths\n",
    "import os # Reproducible file paths\n",
    "import pathlib # Find the home folder\n",
    "import zipfile # Work with zip files\n",
    "\n",
    "# Find files by pattern\n",
    "import matplotlib.pyplot as plt # Overlay pandas and xarry plots,Overlay raster and vector data\n",
    "import rioxarray as rxr # Work with geospatial raster data\n",
    "\n",
    "\n",
    "# Work with tabular, vector, and raster data\n",
    "import cartopy.crs as ccrs # CRSs (Coordinate Reference Systems)\n",
    "import geopandas as gpd # work with vector data\n",
    "import hvplot.pandas # Interactive tabular and vector data\n",
    "import hvplot.xarray # Interactive raster\n",
    "import pandas as pd # Group and aggregate\n",
    "import xarray as xr # Adjust images\n",
    "\n",
    "# Access NASA data\n",
    "import earthaccess # Access NASA data from the cloud"
   ]
  },
  {
   "cell_type": "code",
   "execution_count": null,
   "metadata": {},
   "outputs": [],
   "source": [
    "# Set Up Analysis Part 2 of 2\n",
    "\n",
    "# Define and create the project data directory\n",
    "habitat_suitability_data_dir = os.path.join(\n",
    "    pathlib.Path.home(),\n",
    "    'earth-analytics',\n",
    "    'data',\n",
    "    'habitat_suitability'\n",
    ")\n",
    "os.makedirs(habitat_suitability_data_dir, exist_ok=True)\n",
    "\n",
    "# Call the data directory to check its location\n",
    "habitat_suitability_data_dir"
   ]
  },
  {
   "cell_type": "code",
   "execution_count": null,
   "metadata": {},
   "outputs": [],
   "source": [
    "# Download Redlining Data Part 1 of 1\n",
    "\n",
    "# Define info for redlining download\n",
    "usfs_grasslands_url = (\n",
    "    \"https://data.fs.usda.gov/geodata/edw/\"\n",
    "    \"edw_resources/shp/S_USA.NationalGrassland.zip\"\n",
    ")\n",
    "usfs_grasslands_dir = os.path.join(habitat_suitability_data_dir, 'usfs_grasslands')\n",
    "os.makedirs(usfs_grasslands_dir, exist_ok=True)\n",
    "usfs_grasslands_path = os.path.join(usfs_grasslands_dir, 'usfs_grasslands.shp')\n",
    "\n",
    "# Only download once - conditional\n",
    "if not os.path.exists(usfs_grasslands_path):\n",
    "    redlining_gdf = gpd.read_file(usfs_grasslands_url)\n",
    "    redlining_gdf.to_file(usfs_grasslands_path)\n",
    "\n",
    "# Load from file\n",
    "usfs_grasslands_gdf = gpd.read_file(usfs_grasslands_path)\n"
   ]
  },
  {
   "cell_type": "code",
   "execution_count": null,
   "metadata": {},
   "outputs": [],
   "source": [
    "# Create an interactive site map, select data from Philadelphia\n",
    "philadelphia_redlining_gdf = redlining_gdf[redlining_gdf.city=='Philadelphia']\n",
    "philadelphia_redlining_gdf.dissolve().hvplot(\n",
    "    geo=True, tiles='EsriImagery',\n",
    "    title='City of Philadelphia - Redlining Outline',\n",
    "    fill_color=None, line_color='darkorange', line_width=3,\n",
    "    frame_width=600\n",
    ")"
   ]
  }
 ],
 "metadata": {
  "kernelspec": {
   "display_name": "earth-analytics-python",
   "language": "python",
   "name": "python3"
  },
  "language_info": {
   "name": "python",
   "version": "3.11.10"
  }
 },
 "nbformat": 4,
 "nbformat_minor": 2
}
