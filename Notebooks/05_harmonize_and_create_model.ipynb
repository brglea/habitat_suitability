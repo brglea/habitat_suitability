{
 "cells": [
  {
   "cell_type": "markdown",
   "metadata": {},
   "source": [
    "# 3. Harmonize Raster Data and Create Model"
   ]
  },
  {
   "cell_type": "code",
   "execution_count": 6,
   "metadata": {},
   "outputs": [],
   "source": [
    "# Download stored variables from previous notebooks\n",
    "\n",
    "# Variables from study area download\n",
    "# Project data directory\n",
    "%store -r habitat_suitability_data_dir \n",
    "# Site gdfs\n",
    "%store -r comanche_grassland_gdf pawnee_grassland_gdf \n",
    "\n",
    "# Variables from Polaris download\n",
    "\n",
    "\n",
    "# Variables from SRTM download\n",
    "%store -r srtm_comanche_result_da srtm_pawnee_result_da srtm_da_results slope_da slope_da_list\n",
    "\n",
    "# Variables from the MACA v2 download \n",
    "%store -r maca_df maca_da_list"
   ]
  },
  {
   "cell_type": "markdown",
   "metadata": {},
   "source": [
    "# Harmonize Data Layers: Ensure that each raster layer has \n",
    "# consistent spatial resolution and projection.\n",
    "\n",
    "\n",
    "“””To harmonize data layers, ensure that all raster layers have the \n",
    "same spatial resolution and projection. The function `rio.reproject_match()` \n",
    "from the `rioxarray` library can be used to reproject and align one raster \n",
    "layer to match the resolution, extent, and CRS of a reference raster layer. \n",
    "Use `ds.rio.reproject_match()` to align all raster grids.””\n"
   ]
  },
  {
   "cell_type": "code",
   "execution_count": 7,
   "metadata": {},
   "outputs": [],
   "source": [
    "# Prepare for download Part 1 of 1\n",
    "## Import packages that will help with...\n",
    "\n",
    "# Reproducible file paths\n",
    "import os # Reproducible file paths\n",
    "from glob import glob  # returns list of paths\n",
    "import pathlib # Find the home folder\n",
    "\n",
    "# Find files by pattern\n",
    "import matplotlib.pyplot as plt # Overlay pandas (vector) and xarry (raster) plots \n",
    "import rioxarray as rxr # Work with geospatial raster data\n",
    "\n",
    "# Work with tabular, vector, and raster data\n",
    "import geopandas as gpd # work with vector data\n",
    "import numpy as np # numerical computing\n",
    "import pandas as pd # Group and aggregate\n",
    "from rioxarray.merge import merge_arrays # Merge rasters\n",
    "import xarray as xr # Adjust images"
   ]
  },
  {
   "cell_type": "code",
   "execution_count": 8,
   "metadata": {},
   "outputs": [],
   "source": [
    "# Prep for harmonizing Part 1 of 2\n",
    "# Create output directory for this harmonized raster\n",
    "harmonized_raster_dir = os.path.join(habitat_suitability_data_dir, 'harmonized_rasters')\n",
    "os.makedirs(harmonized_raster_dir, exist_ok=True) "
   ]
  },
  {
   "cell_type": "code",
   "execution_count": null,
   "metadata": {},
   "outputs": [],
   "source": [
    "# Prep for harmonizing Part 2 of 2\n",
    "# Reminder for site variables\n",
    "\n",
    "# POLARIS \n",
    "# \n",
    "\n",
    "# SRTM \n",
    "\n",
    "# MACA\n"
   ]
  },
  {
   "cell_type": "code",
   "execution_count": null,
   "metadata": {},
   "outputs": [],
   "source": [
    "# Create function to harmonize the 3 raster layers\n",
    "def harmonize_raster_layers(reference_rasters, reference_raster, input_rasters, output_dir):\n",
    "    \"\"\"\n",
    "    Harmonize raster layers to ensure consistent spatial resolution and projection.\n",
    "\n",
    "    Args:\n",
    "        reference_raster (str): Path to the reference raster file that other rasters will match.\n",
    "        input_rasters (list): List of paths to the input raster files to harmonize.\n",
    "        output_dir (str): Directory to save the harmonized raster files.\n",
    "\n",
    "    Returns:\n",
    "        list: List of file paths to the harmonized raster files.\n",
    "    \"\"\"\n",
    "\n",
    "    # Iterate through multiple sites or study areas\n",
    "    for site_name, site_gdf in {\n",
    "    'comanche': reference_raster,'pawnee':reference_raster}.items():\n",
    "\n",
    "\n",
    "            # Load the reference raster \n",
    "            ref_raster = rxr.open_rasterio(reference_raster, masked=True)\n",
    "\n",
    "            # Create list to save data arrays back to\n",
    "            harmonized_files = []\n",
    "\n",
    "            # Create for loop to iterate through multiple rasters\n",
    "            for raster_path in input_rasters:\n",
    "                # Load the input raster\n",
    "                input_raster = rxr.open_rasterio(raster_path, masked=True)\n",
    "\n",
    "                # Reproject and align the input raster to match the reference raster\n",
    "                harmonized_raster = input_raster.rio.reproject_match(ref_raster)\n",
    "\n",
    "    # Save the harmonized raster to the output directory\n",
    "    output_file = os.path.join(output_dir, os.path.basename(raster_path))\n",
    "    harmonized_raster.rio.to_raster(output_file)\n",
    "\n",
    "    print(f\"Harmonized raster saved to: {output_file}\")\n",
    "    harmonized_files.append(output_file)\n",
    "\n",
    "    return harmonized_files"
   ]
  },
  {
   "cell_type": "code",
   "execution_count": null,
   "metadata": {},
   "outputs": [],
   "source": [
    "# Test the harmonized raster_layers function\n",
    "harmonize_raster_layers(maca_df, , harmonized_raster_dir)"
   ]
  }
 ],
 "metadata": {
  "kernelspec": {
   "display_name": "earth-analytics-python",
   "language": "python",
   "name": "python3"
  },
  "language_info": {
   "codemirror_mode": {
    "name": "ipython",
    "version": 3
   },
   "file_extension": ".py",
   "mimetype": "text/x-python",
   "name": "python",
   "nbconvert_exporter": "python",
   "pygments_lexer": "ipython3",
   "version": "3.11.11"
  }
 },
 "nbformat": 4,
 "nbformat_minor": 2
}
