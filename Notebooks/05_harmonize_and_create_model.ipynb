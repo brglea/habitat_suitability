{
 "cells": [
  {
   "cell_type": "markdown",
   "metadata": {},
   "source": [
    "# 3. Harmonize Raster Data and Create Model"
   ]
  },
  {
   "cell_type": "markdown",
   "metadata": {},
   "source": [
    "# The below code does not work\n",
    "I was unable to debug the below code with the amount of time left.\n",
    "How I set up the function, I think it's meant for paths and not \n",
    "data arrays per the type error. I thought the If Else statements \n",
    "would get past that, and that was not the case. Something could \n",
    "be potentially wrong with the CRS of all of them, if I had more time \n",
    "I would verify the CRS is the same across the board or fix the whole \n",
    "difference between paths and data arrays. \n",
    "\n",
    "I will not be able to proceed with the habitat suitability model but \n",
    "will write what code I can for it."
   ]
  },
  {
   "cell_type": "code",
   "execution_count": 1,
   "metadata": {},
   "outputs": [],
   "source": [
    "# Download stored variables from previous notebooks\n",
    "\n",
    "# Variables from study area download\n",
    "# Project data directory\n",
    "%store -r habitat_suitability_data_dir \n",
    "# Site gdfs\n",
    "%store -r comanche_grassland_gdf pawnee_grassland_gdf \n",
    "# List of site gdfs \n",
    "%store -r chosen_grasslands_bounds_gdfs\n",
    "\n",
    "# Variables from Polaris download\n",
    "# List of processed polaris data arrays\n",
    "%store -r  polaris_processed_da_list \n",
    "# Site specific polaris data arrays\n",
    "%store -r polaris_comanche_processed polaris_pawnee_processed \n",
    "\n",
    "# Variables from SRTM download\n",
    "# List of srtm slope data arrays\n",
    "%store -r slope_da_list \n",
    "# Site specific srtm slope data arrays\n",
    "%store -r slope_comanche slope_pawnee\n",
    "\n",
    "# Variables from the MACA v2 download \n",
    "# Comanche\n",
    "%store -r maca_comanche_2091_da maca_comanche_2000_da\n",
    "# Pawnee\n",
    "%store -r  maca_pawnee_2091_da maca_pawnee_2000_da\n",
    "# MACA dataframe\n",
    "%store -r maca_df"
   ]
  },
  {
   "cell_type": "markdown",
   "metadata": {},
   "source": [
    "# Harmonize Data Layers: Ensure that each raster layer has \n",
    "# consistent spatial resolution and projection.\n",
    "\n",
    "\n",
    "“””To harmonize data layers, ensure that all raster layers have the \n",
    "same spatial resolution and projection. The function `rio.reproject_match()` \n",
    "from the `rioxarray` library can be used to reproject and align one raster \n",
    "layer to match the resolution, extent, and CRS of a reference raster layer. \n",
    "Use `ds.rio.reproject_match()` to align all raster grids.””\n"
   ]
  },
  {
   "cell_type": "code",
   "execution_count": 2,
   "metadata": {},
   "outputs": [],
   "source": [
    "# Prepare for download Part 1 of 1\n",
    "## Import packages that will help with...\n",
    "\n",
    "# Reproducible file paths\n",
    "import os # Reproducible file paths\n",
    "from glob import glob  # returns list of paths\n",
    "import pathlib # Find the home folder\n",
    "\n",
    "# Find files by pattern\n",
    "import matplotlib.pyplot as plt # Overlay pandas (vector) and xarry (raster) plots \n",
    "import rioxarray as rxr # Work with geospatial raster data\n",
    "\n",
    "# Work with tabular, vector, and raster data\n",
    "import geopandas as gpd # work with vector data\n",
    "import numpy as np # numerical computing\n",
    "import pandas as pd # Group and aggregate\n",
    "from rioxarray.merge import merge_arrays # Merge rasters\n",
    "import xarray as xr # Adjust images"
   ]
  },
  {
   "cell_type": "code",
   "execution_count": 3,
   "metadata": {},
   "outputs": [],
   "source": [
    "# Prep for harmonizing Part 1 of 2\n",
    "# Create output directory for this harmonized raster\n",
    "harmonized_raster_dir = os.path.join(habitat_suitability_data_dir, 'harmonized_rasters')\n",
    "os.makedirs(harmonized_raster_dir, exist_ok=True) "
   ]
  },
  {
   "cell_type": "code",
   "execution_count": 9,
   "metadata": {},
   "outputs": [
    {
     "data": {
      "text/plain": [
       "'/Users/briannagleason/earth-analytics/data/habitat_suitability/harmonized_rasters'"
      ]
     },
     "execution_count": 9,
     "metadata": {},
     "output_type": "execute_result"
    }
   ],
   "source": [
    "# Call the directory to verify location\n",
    "harmonized_raster_dir"
   ]
  },
  {
   "cell_type": "code",
   "execution_count": 10,
   "metadata": {},
   "outputs": [],
   "source": [
    "# Prep for harmonizing Part 2 of 2\n",
    "\n",
    "# Comanche raster data arrays\n",
    "comanche_reference_raster = slope_comanche\n",
    "\n",
    "comanche_input_rasters = [\n",
    "    polaris_comanche_processed,\n",
    "    maca_comanche_2091_da,\n",
    "    maca_comanche_2000_da\n",
    "]\n",
    "\n",
    "# Pawnee data arrays\n",
    "pawnee_reference_raster = slope_pawnee\n",
    "\n",
    "pawnee_input_rasters = [\n",
    "    polaris_pawnee_processed,\n",
    "    maca_pawnee_2091_da, \n",
    "    maca_pawnee_2000_da\n",
    "    ]"
   ]
  },
  {
   "cell_type": "code",
   "execution_count": 11,
   "metadata": {},
   "outputs": [],
   "source": [
    "# Harmonize raster layers by creating function\n",
    "def harmonize_raster_layers(reference_raster, input_rasters, output_dir):\n",
    "    \"\"\"\n",
    "    Harmonize raster layers to ensure consistent spatial resolution and projection.\n",
    "\n",
    "    Args:\n",
    "        reference_raster (str): Path to the reference raster file that other rasters will match.\n",
    "        input_rasters (list): List of paths to the input raster files to harmonize.\n",
    "        output_dir (str): Directory to save the harmonized raster files.\n",
    "\n",
    "    Returns:\n",
    "        list: List of file paths to the harmonized raster files.\n",
    "    \"\"\"\n",
    "    \n",
    "    # Load the reference raster\n",
    "    if isinstance(reference_raster, str):  # If it's a path\n",
    "        ref_raster = rxr.open_rasterio(reference_raster, masked=True)\n",
    "    else:  # If it's a DataArray\n",
    "        ref_raster = reference_raster\n",
    "\n",
    "    # Create list to save the harmonized data arrays back to\n",
    "    harmonized_rasters = []\n",
    "\n",
    "    # Create for loop to iterate through multiple rasters\n",
    "    for raster_path in input_rasters:\n",
    "\n",
    "        # Load the input raster\n",
    "        if isinstance(raster_path, str):  # If it's a path\n",
    "            input_raster = rxr.open_rasterio(raster_path, masked=True)\n",
    "        else:  # If it's a DataArray\n",
    "            input_raster = raster_path\n",
    "\n",
    "        # Reproject and align the input raster to match the reference raster\n",
    "        harmonized_raster = input_raster.rio.reproject_match(ref_raster)\n",
    "\n",
    "        # Save the harmonized raster to the output directory\n",
    "        harmonized_output_file = os.path.join(output_dir, os.path.basename(raster_path))\n",
    "        harmonized_raster.rio.to_raster(harmonized_output_file)\n",
    "\n",
    "        # Print and append\n",
    "        print(f\"Harmonized raster saved to: {harmonized_output_file}\")\n",
    "        harmonized_rasters.append(harmonized_output_file)\n",
    "\n",
    "    # Return the list of harmonized raster paths\n",
    "    return harmonized_rasters\n"
   ]
  },
  {
   "cell_type": "code",
   "execution_count": 12,
   "metadata": {},
   "outputs": [
    {
     "ename": "TypeError",
     "evalue": "expected str, bytes or os.PathLike object, not DataArray",
     "output_type": "error",
     "traceback": [
      "\u001b[0;31m---------------------------------------------------------------------------\u001b[0m",
      "\u001b[0;31mTypeError\u001b[0m                                 Traceback (most recent call last)",
      "Cell \u001b[0;32mIn[12], line 2\u001b[0m\n\u001b[1;32m      1\u001b[0m \u001b[38;5;66;03m# Use harmonize_raster_layers function to get Comanche harmonized raster\u001b[39;00m\n\u001b[0;32m----> 2\u001b[0m comanche_harmonized_rasters \u001b[38;5;241m=\u001b[39m \u001b[43mharmonize_raster_layers\u001b[49m\u001b[43m(\u001b[49m\u001b[43mcomanche_reference_raster\u001b[49m\u001b[43m,\u001b[49m\u001b[43m \u001b[49m\u001b[43mcomanche_input_rasters\u001b[49m\u001b[43m,\u001b[49m\u001b[43m \u001b[49m\u001b[43mharmonized_raster_dir\u001b[49m\u001b[43m)\u001b[49m\n\u001b[1;32m      4\u001b[0m \u001b[38;5;66;03m# Use harmonize_raster_layers function to get Pawnee harmonized raster\u001b[39;00m\n\u001b[1;32m      5\u001b[0m pawnee_harmonized_rasters \u001b[38;5;241m=\u001b[39m harmonize_raster_layers(pawnee_reference_raster, pawnee_input_rasters, harmonized_raster_dir)\n",
      "Cell \u001b[0;32mIn[11], line 37\u001b[0m, in \u001b[0;36mharmonize_raster_layers\u001b[0;34m(reference_raster, input_rasters, output_dir)\u001b[0m\n\u001b[1;32m     34\u001b[0m harmonized_raster \u001b[38;5;241m=\u001b[39m input_raster\u001b[38;5;241m.\u001b[39mrio\u001b[38;5;241m.\u001b[39mreproject_match(ref_raster)\n\u001b[1;32m     36\u001b[0m \u001b[38;5;66;03m# Save the harmonized raster to the output directory\u001b[39;00m\n\u001b[0;32m---> 37\u001b[0m harmonized_output_file \u001b[38;5;241m=\u001b[39m os\u001b[38;5;241m.\u001b[39mpath\u001b[38;5;241m.\u001b[39mjoin(output_dir, \u001b[43mos\u001b[49m\u001b[38;5;241;43m.\u001b[39;49m\u001b[43mpath\u001b[49m\u001b[38;5;241;43m.\u001b[39;49m\u001b[43mbasename\u001b[49m\u001b[43m(\u001b[49m\u001b[43mraster_path\u001b[49m\u001b[43m)\u001b[49m)\n\u001b[1;32m     38\u001b[0m harmonized_raster\u001b[38;5;241m.\u001b[39mrio\u001b[38;5;241m.\u001b[39mto_raster(harmonized_output_file)\n\u001b[1;32m     40\u001b[0m \u001b[38;5;66;03m# Print and append\u001b[39;00m\n",
      "File \u001b[0;32m<frozen posixpath>:142\u001b[0m, in \u001b[0;36mbasename\u001b[0;34m(p)\u001b[0m\n",
      "\u001b[0;31mTypeError\u001b[0m: expected str, bytes or os.PathLike object, not DataArray"
     ]
    }
   ],
   "source": [
    "# Use harmonize_raster_layers function to get Comanche harmonized raster\n",
    "comanche_harmonized_rasters = harmonize_raster_layers(comanche_reference_raster, comanche_input_rasters, harmonized_raster_dir)\n",
    "\n",
    "# Use harmonize_raster_layers function to get Pawnee harmonized raster\n",
    "pawnee_harmonized_rasters = harmonize_raster_layers(pawnee_reference_raster, pawnee_input_rasters, harmonized_raster_dir)\n"
   ]
  },
  {
   "cell_type": "markdown",
   "metadata": {},
   "source": [
    "# 4. Build a Model"
   ]
  },
  {
   "cell_type": "markdown",
   "metadata": {},
   "source": [
    "## The following is psuedocode and has not been tested\n",
    "\n",
    "I ran out of time to finish this and this is just code \n",
    "that could be a model but I haven't tried it on any of \n",
    "my variables. The last block of code I added my variables \n",
    "threshholds or optimal values but again, didn't run any of \n",
    "this. "
   ]
  },
  {
   "cell_type": "code",
   "execution_count": null,
   "metadata": {},
   "outputs": [],
   "source": [
    "# Fuzzy logic model\n",
    "\"\"\"    \n",
    "   - The `calculate_suitability_score` function uses \n",
    "   a **fuzzy Gaussian function** to assign suitability \n",
    "   scores between 0 and 1 for each raster cell.\n",
    "   - Cells with values closer to the `optimal_value` \n",
    "   receive scores closer to 1, while cells farther away receive \n",
    "   lower scores.\n",
    "   - The `tolerance_range` determines how quickly the score drops \n",
    "   off as values deviate from the optimal value.\n",
    "\"\"\"\n",
    "\n",
    "def calculate_suitability_score(raster, optimal_value, tolerance_range):\n",
    "    \"\"\"\n",
    "    Calculate a fuzzy suitability score (0–1) for each raster \n",
    "    cell based on proximity to the optimal value.\n",
    "\n",
    "    Args:\n",
    "        raster (xarray.DataArray): Input raster layer.\n",
    "        optimal_value (float): The optimal value for the variable.\n",
    "        tolerance_range (float): The range within which values are considered suitable.\n",
    "\n",
    "    Returns:\n",
    "        xarray.DataArray: A raster of suitability scores (0–1).\n",
    "    \"\"\"\n",
    "    # Calculate suitability scores using a fuzzy Gaussian function\n",
    "    suitability = np.exp(-((raster - optimal_value) ** 2) / (2 * tolerance_range ** 2))\n",
    "    return suitability \n",
    "\n",
    "suitability"
   ]
  },
  {
   "cell_type": "code",
   "execution_count": null,
   "metadata": {},
   "outputs": [],
   "source": [
    "def build_habitat_suitability_model(\n",
    "        input_rasters, optimal_values, tolerance_ranges, output_dir, threshold=None):\n",
    "    \"\"\"\n",
    "    Build a habitat suitability model by combining fuzzy \n",
    "    suitability scores for each variable.\n",
    "\n",
    "    Args:\n",
    "        input_rasters (list): List of paths to input raster files \n",
    "            representing environmental variables.\n",
    "\n",
    "        optimal_values (list): List of optimal values for each variable.\n",
    "\n",
    "        tolerance_ranges (list): List of tolerance ranges for each variable.\n",
    "\n",
    "        output_dir (str): Directory to save the combined suitability raster.\n",
    "\n",
    "        threshold (float, optional): Threshold for highlighting highly \n",
    "            suitable areas (default is None).\n",
    "\n",
    "    Returns:\n",
    "        str: Path to the final combined suitability raster.\n",
    "    \"\"\"\n",
    "    os.makedirs(output_dir, exist_ok=True)\n",
    "\n",
    "    # Load and calculate suitability scores for each raster\n",
    "    suitability_layers = []\n",
    "    for raster_path, optimal_value, tolerance_range in zip(input_rasters, optimal_values, tolerance_ranges):\n",
    "        raster = rxr.open_rasterio(raster_path, masked=True).squeeze()\n",
    "        suitability_layer = calculate_suitability_score(raster, optimal_value, tolerance_range)\n",
    "        suitability_layers.append(suitability_layer)\n",
    "\n",
    "    # Combine suitability scores by multiplying across all layers\n",
    "    combined_suitability = suitability_layers[0]\n",
    "    for layer in suitability_layers[1:]:\n",
    "        combined_suitability *= layer\n",
    "\n",
    "    # Apply a threshold if provided\n",
    "    if threshold is not None:\n",
    "        combined_suitability = xr.where(combined_suitability >= threshold, combined_suitability, 0)\n",
    "\n",
    "    # Save the combined suitability raster\n",
    "    output_file = os.path.join(output_dir, \"combined_suitability.tif\")\n",
    "    combined_suitability.rio.to_raster(output_file)\n",
    "    print(f\"Combined suitability raster saved to: {output_file}\")\n",
    "\n",
    "    return output_file"
   ]
  },
  {
   "cell_type": "code",
   "execution_count": null,
   "metadata": {},
   "outputs": [],
   "source": [
    "# Example \n",
    "\n",
    "for site_name, site_gdf in {\n",
    "    'comanche':comanche_grassland_gdf,'pawnee':pawnee_grassland_gdf}.items():\n",
    "    if __name__ == \"__main__\":\n",
    "        # Paths to input raster files (e.g., temperature, precipitation, soil pH)\n",
    "        input_rasters = [\n",
    "            \"path_to_slope_raster/slope.tif\",\n",
    "            \"path_to_precipitation_raster/precipitation.tif\",\n",
    "            \"path_to_soil_ph_raster/soil_ph.tif\"\n",
    "        ]\n",
    "\n",
    "        # Optimal values for Rocky Mountain Juniper for each variable\n",
    "        # slope in degrees, precipitation in mm (228.6 - 660.4 mm), soil pH (5-8.5)\n",
    "        optimal_values = [30, 440, 6.5]  # slope in degrees, precipitation in mm, soil pH\n",
    "\n",
    "        # Tolerance ranges for each variable\n",
    "        tolerance_ranges = [10, 220, 0.5]  # acceptable deviation for each variable\n",
    "\n",
    "        # Output directory to save the combined suitability raster\n",
    "        output_dir = \"path_to_output_directory\"\n",
    "\n",
    "        # Optional threshold to highlight highly suitable areas (e.g., 0.8)\n",
    "        threshold = 0.8\n",
    "\n",
    "        # Build the habitat suitability model\n",
    "        combined_suitability_file = build_habitat_suitability_model(\n",
    "            input_rasters, optimal_values, tolerance_ranges, output_dir, threshold\n",
    "        )\n",
    "\n",
    "        print(\"Habitat suitability model created:\", combined_suitability_file)"
   ]
  },
  {
   "cell_type": "markdown",
   "metadata": {},
   "source": [
    "# 5. Plotting \n",
    "\n",
    "## Below Code is Psuedocode on how I would plot the \n",
    "## each site and climate scenario combo\n",
    "\n"
   ]
  },
  {
   "cell_type": "markdown",
   "metadata": {},
   "source": [
    "I think I would need to separate each of the raster layers related \n",
    "to the site prior to plotting, but I don't think my psuedo code above \n",
    "included that. "
   ]
  },
  {
   "cell_type": "code",
   "execution_count": null,
   "metadata": {},
   "outputs": [],
   "source": [
    "# Comanche 2000-2004 scenario (historical)\n",
    "comanche_combined_suitability_file.plot(\n",
    "    cbar_kwargs={\"label\": \"suitability score)\"},\n",
    "    robust=True,\n",
    "    cmap='terrain',\n",
    ")\n",
    "\n",
    "# Overlay the boundary of the same study area\n",
    "comanche_grassland_gdf.boundary.plot(ax=plt.gca(),\n",
    "    color='black').set(\n",
    "        title='Comanche Grassland-Historical Scenario 2000-2004 ',\n",
    "        xlabel='Longitude', \n",
    "        ylabel='Latitude',\n",
    "        xticks=[],\n",
    "        yticks=[] \n",
    "    )\n",
    "plt.show()"
   ]
  },
  {
   "cell_type": "code",
   "execution_count": null,
   "metadata": {},
   "outputs": [],
   "source": [
    "# Comanche 2091-2095 scenario (rcp85)\n",
    "comanche_combined_suitability_file.plot(\n",
    "    cbar_kwargs={\"label\": \"suitability score)\"},\n",
    "    robust=True,\n",
    "    cmap='terrain',\n",
    ")\n",
    "# Overlay the boundary of the same study area\n",
    "comanche_grassland_gdf.boundary.plot(ax=plt.gca(),\n",
    "    color='black').set(\n",
    "        title='Comanche Grassland- rcp85 Scenario 2091-2096  ',\n",
    "        xlabel='Longitude', \n",
    "        ylabel='Latitude',\n",
    "        xticks=[],\n",
    "        yticks=[] \n",
    "    )\n",
    "plt.show()"
   ]
  },
  {
   "cell_type": "code",
   "execution_count": null,
   "metadata": {},
   "outputs": [],
   "source": [
    "# Pawnee 2000-2004 scenario (historical)\n",
    "pawnee_combined_suitability_file.plot(\n",
    "    cbar_kwargs={\"label\": \"suitability score)\"},\n",
    "    robust=True,\n",
    "    cmap='terrain',\n",
    ")\n",
    "# Overlay the boundary of the same study area\n",
    "pawnee_grassland_gdf.boundary.plot(ax=plt.gca(),\n",
    "    color='black').set(\n",
    "        title='Pawnee Grassland- Historical Scenario 2000-2004 ',\n",
    "        xlabel='Longitude', \n",
    "        ylabel='Latitude',\n",
    "        xticks=[],\n",
    "        yticks=[] \n",
    "    )\n",
    "plt.show()"
   ]
  },
  {
   "cell_type": "code",
   "execution_count": null,
   "metadata": {},
   "outputs": [],
   "source": [
    "# Pawnee 2091-2095 scenario (rcp85)\n",
    "pawnee_combined_suitability_file.plot(\n",
    "    cbar_kwargs={\"label\": \"suitability score)\"},\n",
    "    robust=True,\n",
    "    cmap='terrain',\n",
    ")\n",
    "\n",
    "# Overlay the boundary of the same study area\n",
    "pawnee_grassland_gdf.boundary.plot(ax=plt.gca(),\n",
    "    color='black').set(\n",
    "        title='Pawnee Grassland- rcp85 Scenario 2091-2096 ',\n",
    "        xlabel='Longitude', \n",
    "        ylabel='Latitude',\n",
    "        xticks=[],\n",
    "        yticks=[] \n",
    "    )\n",
    "plt.show()"
   ]
  },
  {
   "cell_type": "markdown",
   "metadata": {},
   "source": [
    "## Model Description - what I would want to go over if this \n",
    "## ended up working\n",
    "\n",
    "For this Model a fuzzy logic model was employed. First my species of choice \n",
    "was researched, optimal values found for each variable used (e.g. soil pH, \n",
    "slope, and current climatological annual precipitation). For each digital number \n",
    "in each raster, a value from 0 to 1 was assigned for how close that grid square was to \n",
    "the optimum range (1=optimal, 0=incompatible). Raster layers were combined by \n",
    "multiplying them together. This will gave a single suitability number for each \n",
    "square. A threshold was applied to make the most suitable areas pop on my map.\n",
    "\n",
    "Model results were further plotted to be able to compare habitat suitability in \n",
    "both sites, using two different scenarios...\n",
    "\n",
    "Evaluation of the model: was this a suitable model, were there other possible ones \n",
    "that could have been use, what are the drawbacks of this model, what are the successes \n",
    "of it...\n",
    "\n"
   ]
  },
  {
   "cell_type": "markdown",
   "metadata": {},
   "source": [
    "# Conclusion:"
   ]
  },
  {
   "cell_type": "markdown",
   "metadata": {},
   "source": [
    "After plotting I would compare them for a conclusion:\n",
    "1. Are the areas of suitability similar? Where? Does this \n",
    "line up with the context about the sites.\n",
    "2. Are the areas of suitability growing, shrinking, \n",
    "changing location, etc.? \n",
    "3. Do the findings line up with the site context and context \n",
    "about the plant species or does it differ?\n",
    "4. What could be futher elaborated on or is missing from \n",
    "this project?\n",
    "5. What are the limitations of the conclusions?\n"
   ]
  }
 ],
 "metadata": {
  "kernelspec": {
   "display_name": "earth-analytics-python",
   "language": "python",
   "name": "python3"
  },
  "language_info": {
   "codemirror_mode": {
    "name": "ipython",
    "version": 3
   },
   "file_extension": ".py",
   "mimetype": "text/x-python",
   "name": "python",
   "nbconvert_exporter": "python",
   "pygments_lexer": "ipython3",
   "version": "3.11.11"
  }
 },
 "nbformat": 4,
 "nbformat_minor": 2
}
