{
 "cells": [
  {
   "cell_type": "markdown",
   "metadata": {},
   "source": [
    "# 3. Harmonize Raster Data and Create Model"
   ]
  },
  {
   "cell_type": "code",
   "execution_count": 1,
   "metadata": {},
   "outputs": [],
   "source": [
    "# Download stored variables from previous notebooks\n",
    "\n",
    "# Variables from study area download\n",
    "# Project data directory\n",
    "%store -r habitat_suitability_data_dir \n",
    "# Site gdfs\n",
    "%store -r comanche_grassland_gdf pawnee_grassland_gdf \n",
    "# List of site gdfs \n",
    "%store -r chosen_grasslands_bounds_gdfs\n",
    "\n",
    "# Variables from Polaris download\n",
    "# List of processed polaris data arrays\n",
    "%store -r  polaris_processed_da_list \n",
    "# Site specific polaris data arrays\n",
    "%store -r polaris_comanche_processed polaris_pawnee_processed \n",
    "\n",
    "# Variables from SRTM download\n",
    "# List of srtm slope data arrays\n",
    "%store -r slope_da_list \n",
    "# Site specific srtm slope data arrays\n",
    "%store -r slope_comanche slope_pawnee\n",
    "\n",
    "# Variables from the MACA v2 download \n",
    "# MACA dataframe \n",
    "%store -r maca_df \n",
    "# MACA list of data arrays\n",
    "%store -r maca_da_list"
   ]
  },
  {
   "cell_type": "markdown",
   "metadata": {},
   "source": [
    "# Harmonize Data Layers: Ensure that each raster layer has \n",
    "# consistent spatial resolution and projection.\n",
    "\n",
    "\n",
    "“””To harmonize data layers, ensure that all raster layers have the \n",
    "same spatial resolution and projection. The function `rio.reproject_match()` \n",
    "from the `rioxarray` library can be used to reproject and align one raster \n",
    "layer to match the resolution, extent, and CRS of a reference raster layer. \n",
    "Use `ds.rio.reproject_match()` to align all raster grids.””\n"
   ]
  },
  {
   "cell_type": "code",
   "execution_count": 2,
   "metadata": {},
   "outputs": [],
   "source": [
    "# Prepare for download Part 1 of 1\n",
    "## Import packages that will help with...\n",
    "\n",
    "# Reproducible file paths\n",
    "import os # Reproducible file paths\n",
    "from glob import glob  # returns list of paths\n",
    "import pathlib # Find the home folder\n",
    "\n",
    "# Find files by pattern\n",
    "import matplotlib.pyplot as plt # Overlay pandas (vector) and xarry (raster) plots \n",
    "import rioxarray as rxr # Work with geospatial raster data\n",
    "\n",
    "# Work with tabular, vector, and raster data\n",
    "import geopandas as gpd # work with vector data\n",
    "import numpy as np # numerical computing\n",
    "import pandas as pd # Group and aggregate\n",
    "from rioxarray.merge import merge_arrays # Merge rasters\n",
    "import xarray as xr # Adjust images"
   ]
  },
  {
   "cell_type": "code",
   "execution_count": 3,
   "metadata": {},
   "outputs": [],
   "source": [
    "# Prep for harmonizing Part 1 of 1\n",
    "# Create output directory for this harmonized raster\n",
    "harmonized_raster_dir = os.path.join(habitat_suitability_data_dir, 'harmonized_rasters')\n",
    "os.makedirs(harmonized_raster_dir, exist_ok=True) "
   ]
  },
  {
   "cell_type": "code",
   "execution_count": null,
   "metadata": {},
   "outputs": [],
   "source": [
    "# Harmonize raster layers using a for loop\n",
    "\n",
    "# Create list to save the harmonized data arrays back to \n",
    "harmonized_rasters = []\n",
    "\n",
    "# Iterate through multiple sites or study areas\n",
    "for site_name, site_gdf in {\n",
    "'comanche': reference_raster,'pawnee':reference_raster}.items():\n",
    "\n",
    "    # Load the reference raster \n",
    "    ref_raster = rxr.open_rasterio(reference_raster, masked=True)\n",
    "\n",
    "    # Create for loop to iterate through multiple rasters\n",
    "    for raster_path in input_rasters:\n",
    "        # Load the input raster\n",
    "        input_raster = rxr.open_rasterio(raster_path, masked=True)\n",
    "\n",
    "        # Reproject and align the input raster to match the reference raster\n",
    "        harmonized_raster = input_raster.rio.reproject_match(ref_raster)\n",
    "\n",
    "# Save the harmonized raster to the output directory\n",
    "output_file = os.path.join(output_dir, os.path.basename(raster_path))\n",
    "harmonized_raster.rio.to_raster(output_file)\n",
    "\n",
    "print(f\"Harmonized raster saved to: {output_file}\")\n",
    "harmonized_files.append(output_file)\n",
    "\n"
   ]
  }
 ],
 "metadata": {
  "kernelspec": {
   "display_name": "earth-analytics-python",
   "language": "python",
   "name": "python3"
  },
  "language_info": {
   "codemirror_mode": {
    "name": "ipython",
    "version": 3
   },
   "file_extension": ".py",
   "mimetype": "text/x-python",
   "name": "python",
   "nbconvert_exporter": "python",
   "pygments_lexer": "ipython3",
   "version": "3.11.11"
  }
 },
 "nbformat": 4,
 "nbformat_minor": 2
}
