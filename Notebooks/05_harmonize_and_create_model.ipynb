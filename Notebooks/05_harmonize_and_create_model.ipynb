{
 "cells": [
  {
   "cell_type": "markdown",
   "metadata": {},
   "source": [
    "# 3. Harmonize Raster Data and Create Model"
   ]
  },
  {
   "cell_type": "code",
   "execution_count": null,
   "metadata": {
    "vscode": {
     "languageId": "plaintext"
    }
   },
   "outputs": [],
   "source": [
    "# Download stored variables from previous notebooks\n",
    "\n",
    "# Variables from study area download\n",
    "%store -r habitat_suitability_data_dir usfs_grasslands_path \n",
    "%store -r comanche_grassland_gdf pawnee_grassland_gdf usfs_grasslands_gdf\n",
    "\n",
    "# Variables from Polaris download\n",
    "\n",
    "\n",
    "# Variables from SRTM download\n",
    "#%store srtm_comanche_result srtm_pawnee_result slope_da slope_list"
   ]
  }
 ],
 "metadata": {
  "language_info": {
   "name": "python"
  }
 },
 "nbformat": 4,
 "nbformat_minor": 2
}
